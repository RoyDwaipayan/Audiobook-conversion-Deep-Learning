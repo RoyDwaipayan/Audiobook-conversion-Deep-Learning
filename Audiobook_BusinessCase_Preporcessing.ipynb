{
 "cells": [
  {
   "cell_type": "code",
   "execution_count": 1,
   "id": "5669c695",
   "metadata": {},
   "outputs": [],
   "source": [
    "import tensorflow as tf\n",
    "import numpy as np"
   ]
  },
  {
   "cell_type": "code",
   "execution_count": 9,
   "id": "617a5555",
   "metadata": {},
   "outputs": [],
   "source": [
    "from sklearn import preprocessing"
   ]
  },
  {
   "cell_type": "markdown",
   "id": "fd24a1dc",
   "metadata": {},
   "source": [
    "Loading the Data"
   ]
  },
  {
   "cell_type": "code",
   "execution_count": 8,
   "id": "361f41c0",
   "metadata": {},
   "outputs": [],
   "source": [
    "raw_data = np.loadtxt('Audiobooks_data.csv', delimiter = ',')"
   ]
  },
  {
   "cell_type": "markdown",
   "id": "48cc27d3",
   "metadata": {},
   "source": [
    "Shuffling the Raw Data"
   ]
  },
  {
   "cell_type": "code",
   "execution_count": 26,
   "id": "75417030",
   "metadata": {},
   "outputs": [],
   "source": [
    "raw_shuffled_indices = np.arange(raw_data.shape[0])\n",
    "np.random.shuffle(raw_shuffled_indices)\n",
    "raw_data_shuffled = raw_data[raw_shuffled_indices]"
   ]
  },
  {
   "cell_type": "markdown",
   "id": "e2a6ccd0",
   "metadata": {},
   "source": [
    "Extracting inputs and targets"
   ]
  },
  {
   "cell_type": "code",
   "execution_count": 27,
   "id": "78b07806",
   "metadata": {},
   "outputs": [],
   "source": [
    "raw_shuffled_inputs_all = raw_data_shuffled[:,1:-1]\n",
    "raw_shuffled_targets_all = raw_data_shuffled[:,-1]"
   ]
  },
  {
   "cell_type": "markdown",
   "id": "92722d40",
   "metadata": {},
   "source": [
    "Standardising the inputs"
   ]
  },
  {
   "cell_type": "code",
   "execution_count": 31,
   "id": "65ca6489",
   "metadata": {},
   "outputs": [],
   "source": [
    "scaled_inputs_all = preprocessing.scale(raw_shuffled_inputs_all)"
   ]
  },
  {
   "cell_type": "markdown",
   "id": "7111ecdc",
   "metadata": {},
   "source": [
    "Balancing the Dataset"
   ]
  },
  {
   "cell_type": "code",
   "execution_count": 38,
   "id": "018b5cd8",
   "metadata": {},
   "outputs": [],
   "source": [
    "num_of_ones = int(np.sum(raw_shuffled_targets_all))\n",
    "zeroes_counter = 0\n",
    "indices_to_remove = []\n",
    "\n",
    "for i in range(raw_shuffled_targets_all.shape[0]):\n",
    "    if(raw_shuffled_targets_all[i] == 0):\n",
    "        zeroes_counter+=1\n",
    "        if(zeroes_counter > num_of_ones):\n",
    "            indices_to_remove.append(i)\n",
    "\n",
    "balanced_inputs = np.delete(scaled_inputs_all, indices_to_remove, axis= 0)\n",
    "balanced_targets = np.delete(raw_shuffled_targets_all, indices_to_remove, axis= 0)"
   ]
  },
  {
   "cell_type": "markdown",
   "id": "7cde4c63",
   "metadata": {},
   "source": [
    "Shuffle after Balancing"
   ]
  },
  {
   "cell_type": "code",
   "execution_count": 39,
   "id": "c5de0376",
   "metadata": {},
   "outputs": [],
   "source": [
    "balanced_shuffled_indices = np.arange(balanced_targets.shape[0])\n",
    "np.random.shuffle(balanced_shuffled_indices)\n",
    "\n",
    "balanced_shuffled_inputs = balanced_inputs[balanced_shuffled_indices]\n",
    "balanced_shuffled_targets = balanced_targets[balanced_shuffled_indices]"
   ]
  },
  {
   "cell_type": "markdown",
   "id": "247c2596",
   "metadata": {},
   "source": [
    "Spliting into Train, Validation, Test"
   ]
  },
  {
   "cell_type": "code",
   "execution_count": 41,
   "id": "3030039f",
   "metadata": {},
   "outputs": [
    {
     "name": "stdout",
     "output_type": "stream",
     "text": [
      "1793.0 3579 0.5009779267951942\n",
      "215.0 447 0.4809843400447427\n",
      "229.0 448 0.5111607142857143\n"
     ]
    }
   ],
   "source": [
    "sample_count = balanced_shuffled_targets.shape[0]\n",
    "\n",
    "train_sample_count = int(0.8*sample_count)\n",
    "validation_sample_count = int(0.1*sample_count)\n",
    "test_sample_count = sample_count - train_sample_count - validation_sample_count\n",
    "\n",
    "train_inputs = balanced_shuffled_inputs[:train_sample_count]\n",
    "train_targets = balanced_shuffled_targets[:train_sample_count]\n",
    "\n",
    "validation_inputs = balanced_shuffled_inputs[train_sample_count : train_sample_count+validation_sample_count]\n",
    "validation_targets = balanced_shuffled_targets[train_sample_count : train_sample_count+validation_sample_count]\n",
    "\n",
    "test_inputs = balanced_shuffled_inputs[train_sample_count+validation_sample_count:]\n",
    "test_targets = balanced_shuffled_targets[train_sample_count+validation_sample_count:]\n",
    "\n",
    "\n",
    "#Checking the balance of the dataset\n",
    "print(np.sum(train_targets), train_sample_count, np.sum(train_targets) / train_sample_count)\n",
    "print(np.sum(validation_targets), validation_sample_count, np.sum(validation_targets) / validation_sample_count)\n",
    "print(np.sum(test_targets), test_sample_count, np.sum(test_targets) / test_sample_count)"
   ]
  },
  {
   "cell_type": "markdown",
   "id": "e24612fc",
   "metadata": {},
   "source": [
    "Save as npz"
   ]
  },
  {
   "cell_type": "code",
   "execution_count": 42,
   "id": "a7c98597",
   "metadata": {},
   "outputs": [],
   "source": [
    "np.savez('Audiobooks_data_train', inputs=train_inputs, targets=train_targets)\n",
    "np.savez('Audiobooks_data_validation', inputs=validation_inputs, targets=validation_targets)\n",
    "np.savez('Audiobooks_data_test', inputs=test_inputs, targets=test_targets)"
   ]
  },
  {
   "cell_type": "code",
   "execution_count": null,
   "id": "4bbb19f0",
   "metadata": {},
   "outputs": [],
   "source": []
  }
 ],
 "metadata": {
  "kernelspec": {
   "display_name": "python3.9-TF2.0",
   "language": "python",
   "name": "python3.9-tf2.0"
  },
  "language_info": {
   "codemirror_mode": {
    "name": "ipython",
    "version": 3
   },
   "file_extension": ".py",
   "mimetype": "text/x-python",
   "name": "python",
   "nbconvert_exporter": "python",
   "pygments_lexer": "ipython3",
   "version": "3.9.12"
  }
 },
 "nbformat": 4,
 "nbformat_minor": 5
}
