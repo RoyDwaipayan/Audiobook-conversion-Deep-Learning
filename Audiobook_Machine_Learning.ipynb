{
 "cells": [
  {
   "cell_type": "code",
   "execution_count": 1,
   "id": "904c1565",
   "metadata": {},
   "outputs": [],
   "source": [
    "import numpy as np\n",
    "import tensorflow as tf"
   ]
  },
  {
   "cell_type": "code",
   "execution_count": 12,
   "id": "7605568a",
   "metadata": {},
   "outputs": [],
   "source": [
    "npz = np.load('Audiobooks_data_train.npz')\n",
    "\n",
    "train_inputs = npz['inputs'].astype(float)\n",
    "train_targets = npz['targets'].astype(int)\n",
    "\n",
    "npz = np.load('Audiobooks_data_validation.npz')\n",
    "\n",
    "validation_inputs = npz['inputs'].astype(float)\n",
    "validation_targets = npz['targets'].astype(int)\n",
    "\n",
    "npz = np.load('Audiobooks_data_test.npz')\n",
    "\n",
    "test_inputs = npz['inputs'].astype(float)\n",
    "test_targets = npz['targets'].astype(int)"
   ]
  },
  {
   "cell_type": "code",
   "execution_count": 43,
   "id": "7a5e432a",
   "metadata": {},
   "outputs": [
    {
     "name": "stdout",
     "output_type": "stream",
     "text": [
      "Epoch 1/100\n",
      "4/4 - 0s - loss: 0.6691 - accuracy: 0.5678 - val_loss: 0.6080 - val_accuracy: 0.6197 - 485ms/epoch - 121ms/step\n",
      "Epoch 2/100\n",
      "4/4 - 0s - loss: 0.5742 - accuracy: 0.6776 - val_loss: 0.5533 - val_accuracy: 0.7047 - 25ms/epoch - 6ms/step\n",
      "Epoch 3/100\n",
      "4/4 - 0s - loss: 0.5220 - accuracy: 0.7435 - val_loss: 0.5082 - val_accuracy: 0.7450 - 25ms/epoch - 6ms/step\n",
      "Epoch 4/100\n",
      "4/4 - 0s - loss: 0.4819 - accuracy: 0.7544 - val_loss: 0.4780 - val_accuracy: 0.7651 - 26ms/epoch - 6ms/step\n",
      "Epoch 5/100\n",
      "4/4 - 0s - loss: 0.4561 - accuracy: 0.7533 - val_loss: 0.4585 - val_accuracy: 0.7539 - 24ms/epoch - 6ms/step\n",
      "Epoch 6/100\n",
      "4/4 - 0s - loss: 0.4359 - accuracy: 0.7678 - val_loss: 0.4500 - val_accuracy: 0.7539 - 23ms/epoch - 6ms/step\n",
      "Epoch 7/100\n",
      "4/4 - 0s - loss: 0.4219 - accuracy: 0.7740 - val_loss: 0.4399 - val_accuracy: 0.7450 - 23ms/epoch - 6ms/step\n",
      "Epoch 8/100\n",
      "4/4 - 0s - loss: 0.4110 - accuracy: 0.7843 - val_loss: 0.4314 - val_accuracy: 0.7494 - 25ms/epoch - 6ms/step\n",
      "Epoch 9/100\n",
      "4/4 - 0s - loss: 0.3993 - accuracy: 0.7935 - val_loss: 0.4272 - val_accuracy: 0.7338 - 24ms/epoch - 6ms/step\n",
      "Epoch 10/100\n",
      "4/4 - 0s - loss: 0.3922 - accuracy: 0.7910 - val_loss: 0.4156 - val_accuracy: 0.7629 - 23ms/epoch - 6ms/step\n",
      "Epoch 11/100\n",
      "4/4 - 0s - loss: 0.3863 - accuracy: 0.7963 - val_loss: 0.4130 - val_accuracy: 0.7673 - 24ms/epoch - 6ms/step\n",
      "Epoch 12/100\n",
      "4/4 - 0s - loss: 0.3791 - accuracy: 0.7991 - val_loss: 0.4157 - val_accuracy: 0.7360 - 25ms/epoch - 6ms/step\n",
      "Epoch 13/100\n",
      "4/4 - 0s - loss: 0.3737 - accuracy: 0.8030 - val_loss: 0.4046 - val_accuracy: 0.7763 - 25ms/epoch - 6ms/step\n",
      "Epoch 14/100\n",
      "4/4 - 0s - loss: 0.3707 - accuracy: 0.8058 - val_loss: 0.4113 - val_accuracy: 0.7472 - 24ms/epoch - 6ms/step\n",
      "Epoch 15/100\n",
      "4/4 - 0s - loss: 0.3681 - accuracy: 0.8103 - val_loss: 0.4013 - val_accuracy: 0.7651 - 25ms/epoch - 6ms/step\n",
      "Epoch 16/100\n",
      "4/4 - 0s - loss: 0.3668 - accuracy: 0.8058 - val_loss: 0.3990 - val_accuracy: 0.7629 - 23ms/epoch - 6ms/step\n",
      "Epoch 17/100\n",
      "4/4 - 0s - loss: 0.3617 - accuracy: 0.8033 - val_loss: 0.4035 - val_accuracy: 0.7539 - 24ms/epoch - 6ms/step\n",
      "Epoch 18/100\n",
      "4/4 - 0s - loss: 0.3585 - accuracy: 0.8100 - val_loss: 0.3974 - val_accuracy: 0.7808 - 23ms/epoch - 6ms/step\n",
      "Epoch 19/100\n",
      "4/4 - 0s - loss: 0.3576 - accuracy: 0.8080 - val_loss: 0.4009 - val_accuracy: 0.7584 - 25ms/epoch - 6ms/step\n",
      "Epoch 20/100\n",
      "4/4 - 0s - loss: 0.3537 - accuracy: 0.8117 - val_loss: 0.3916 - val_accuracy: 0.7852 - 25ms/epoch - 6ms/step\n",
      "Epoch 21/100\n",
      "4/4 - 0s - loss: 0.3533 - accuracy: 0.8111 - val_loss: 0.4000 - val_accuracy: 0.7539 - 23ms/epoch - 6ms/step\n",
      "Epoch 22/100\n",
      "4/4 - 0s - loss: 0.3537 - accuracy: 0.8142 - val_loss: 0.3894 - val_accuracy: 0.7830 - 24ms/epoch - 6ms/step\n",
      "Epoch 23/100\n",
      "4/4 - 0s - loss: 0.3509 - accuracy: 0.8139 - val_loss: 0.3959 - val_accuracy: 0.7651 - 24ms/epoch - 6ms/step\n",
      "Epoch 24/100\n",
      "4/4 - 0s - loss: 0.3491 - accuracy: 0.8175 - val_loss: 0.3879 - val_accuracy: 0.7852 - 24ms/epoch - 6ms/step\n",
      "Epoch 25/100\n",
      "4/4 - 0s - loss: 0.3469 - accuracy: 0.8164 - val_loss: 0.3913 - val_accuracy: 0.7808 - 26ms/epoch - 6ms/step\n",
      "Epoch 26/100\n",
      "4/4 - 0s - loss: 0.3462 - accuracy: 0.8170 - val_loss: 0.3852 - val_accuracy: 0.7875 - 24ms/epoch - 6ms/step\n",
      "Epoch 27/100\n",
      "4/4 - 0s - loss: 0.3465 - accuracy: 0.8153 - val_loss: 0.3912 - val_accuracy: 0.7696 - 23ms/epoch - 6ms/step\n",
      "Epoch 28/100\n",
      "4/4 - 0s - loss: 0.3451 - accuracy: 0.8175 - val_loss: 0.3838 - val_accuracy: 0.7897 - 25ms/epoch - 6ms/step\n",
      "Epoch 29/100\n",
      "4/4 - 0s - loss: 0.3433 - accuracy: 0.8161 - val_loss: 0.3901 - val_accuracy: 0.7785 - 25ms/epoch - 6ms/step\n",
      "Epoch 30/100\n",
      "4/4 - 0s - loss: 0.3420 - accuracy: 0.8181 - val_loss: 0.3895 - val_accuracy: 0.7785 - 24ms/epoch - 6ms/step\n",
      "Epoch 31/100\n",
      "4/4 - 0s - loss: 0.3409 - accuracy: 0.8175 - val_loss: 0.3870 - val_accuracy: 0.7897 - 26ms/epoch - 7ms/step\n"
     ]
    },
    {
     "data": {
      "text/plain": [
       "<keras.callbacks.History at 0x1d19ff162b0>"
      ]
     },
     "execution_count": 43,
     "metadata": {},
     "output_type": "execute_result"
    }
   ],
   "source": [
    "input_size = 10\n",
    "output_size = 2\n",
    "hidden_layer_size = 100\n",
    "#Lets take all hidden layers of the same size here\n",
    "\n",
    "model = tf.keras.Sequential([\n",
    "                            tf.keras.layers.Dense(hidden_layer_size, activation = 'relu'),\n",
    "                            tf.keras.layers.Dense(hidden_layer_size, activation = 'tanh'),\n",
    "                            tf.keras.layers.Dense(hidden_layer_size, activation = 'relu'),\n",
    "                            tf.keras.layers.Dense(output_size, activation = 'softmax'),\n",
    "                            ])\n",
    "\n",
    "early_stopping = tf.keras.callbacks.EarlyStopping(patience = 3)\n",
    "\n",
    "model.compile(optimizer = 'adam', loss = 'sparse_categorical_crossentropy', metrics=['accuracy'])\n",
    "\n",
    "batch_size = 1000\n",
    "max_epochs = 100\n",
    "model.fit(train_inputs, train_targets, batch_size = batch_size, epochs = max_epochs,\n",
    "          callbacks = [early_stopping],\n",
    "          validation_data=(validation_inputs, validation_targets), verbose = 2)"
   ]
  },
  {
   "cell_type": "code",
   "execution_count": 44,
   "id": "125400ca",
   "metadata": {},
   "outputs": [
    {
     "name": "stdout",
     "output_type": "stream",
     "text": [
      "14/14 [==============================] - 0s 844us/step - loss: 0.3752 - accuracy: 0.8326\n"
     ]
    }
   ],
   "source": [
    "test_loss, test_accuracy = model.evaluate(test_inputs, test_targets)"
   ]
  },
  {
   "cell_type": "code",
   "execution_count": null,
   "id": "cab8ad10",
   "metadata": {},
   "outputs": [],
   "source": []
  }
 ],
 "metadata": {
  "kernelspec": {
   "display_name": "python3.9-TF2.0",
   "language": "python",
   "name": "python3.9-tf2.0"
  },
  "language_info": {
   "codemirror_mode": {
    "name": "ipython",
    "version": 3
   },
   "file_extension": ".py",
   "mimetype": "text/x-python",
   "name": "python",
   "nbconvert_exporter": "python",
   "pygments_lexer": "ipython3",
   "version": "3.9.12"
  }
 },
 "nbformat": 4,
 "nbformat_minor": 5
}
